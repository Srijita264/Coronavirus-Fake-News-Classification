{
  "nbformat": 4,
  "nbformat_minor": 0,
  "metadata": {
    "colab": {
      "provenance": [],
      "authorship_tag": "ABX9TyPkL5rRg0Qc7kxpKPneTE0T",
      "include_colab_link": true
    },
    "kernelspec": {
      "name": "python3",
      "display_name": "Python 3"
    },
    "language_info": {
      "name": "python"
    }
  },
  "cells": [
    {
      "cell_type": "markdown",
      "metadata": {
        "id": "view-in-github",
        "colab_type": "text"
      },
      "source": [
        "<a href=\"https://colab.research.google.com/github/Srijita264/Coronavirus-Fake-News-Classification/blob/main/Gradient_Boost.ipynb\" target=\"_parent\"><img src=\"https://colab.research.google.com/assets/colab-badge.svg\" alt=\"Open In Colab\"/></a>"
      ]
    },
    {
      "cell_type": "code",
      "execution_count": null,
      "metadata": {
        "id": "k5e6FTZBJNYM"
      },
      "outputs": [],
      "source": [
        "import pandas as pd\n",
        "import nltk\n",
        "import re\n",
        "from nltk.corpus import stopwords\n",
        "import matplotlib.pyplot as plt\n",
        "from sklearn.feature_extraction.text import CountVectorizer, TfidfTransformer\n",
        "from sklearn.metrics import classification_report,confusion_matrix\n",
        "from sklearn.metrics import accuracy_score, f1_score, precision_score, recall_score\n",
        "from sklearn.svm import LinearSVC\n",
        "from sklearn.pipeline import Pipeline\n",
        "from sklearn.linear_model import SGDClassifier, LogisticRegression\n",
        "from sklearn.neural_network import MLPClassifier\n",
        "from joblib import dump, load\n",
        "from sklearn.ensemble import GradientBoostingClassifier\n",
        "from sklearn import tree\n",
        "import numpy as np\n",
        "import itertools"
      ]
    },
    {
      "cell_type": "code",
      "source": [
        "from google.colab import drive\n",
        "drive.mount('/content/drive')"
      ],
      "metadata": {
        "colab": {
          "base_uri": "https://localhost:8080/"
        },
        "id": "gIum3r04L-Xs",
        "outputId": "a598d14f-e2b9-4448-feee-66a41b871f58"
      },
      "execution_count": null,
      "outputs": [
        {
          "output_type": "stream",
          "name": "stdout",
          "text": [
            "Mounted at /content/drive\n"
          ]
        }
      ]
    },
    {
      "cell_type": "code",
      "source": [
        "def plot_confusion_matrix(cm,\n",
        "                          target_names,\n",
        "                          title='Confusion matrix',\n",
        "                          cmap=None,\n",
        "                          normalize=True):\n",
        "    accuracy = np.trace(cm) / float(np.sum(cm))\n",
        "    misclass = 1 - accuracy\n",
        "\n",
        "    if cmap is None:\n",
        "        cmap = plt.get_cmap('Blues')\n",
        "\n",
        "    plt.figure(figsize=(5, 4))\n",
        "    plt.imshow(cm, interpolation='nearest', cmap=cmap)\n",
        "    plt.title(title)\n",
        "    plt.colorbar()\n",
        "\n",
        "    if target_names is not None:\n",
        "        tick_marks = np.arange(len(target_names))\n",
        "        plt.xticks(tick_marks, target_names, rotation=45)\n",
        "        plt.yticks(tick_marks, target_names)\n",
        "\n",
        "    if normalize:\n",
        "        cm = cm.astype('float') / cm.sum(axis=1)[:, np.newaxis]\n",
        "\n",
        "\n",
        "    thresh = cm.max() / 1.5 if normalize else cm.max() / 2\n",
        "    for i, j in itertools.product(range(cm.shape[0]), range(cm.shape[1])):\n",
        "        if normalize:\n",
        "            plt.text(j, i, \"{:0.4f}\".format(cm[i, j]),\n",
        "                     horizontalalignment=\"center\",\n",
        "                     color=\"white\" if cm[i, j] > thresh else \"black\")\n",
        "        else:\n",
        "            plt.text(j, i, \"{:,}\".format(cm[i, j]),\n",
        "                     horizontalalignment=\"center\",\n",
        "                     color=\"white\" if cm[i, j] > thresh else \"black\")\n",
        "\n",
        "\n",
        "    plt.tight_layout()\n",
        "    plt.ylabel('True label')\n",
        "    #plt.xlabel('Predicted label\\naccuracy={:0.4f}; misclass={:0.4f}'.format(accuracy, misclass))\n",
        "    plt.xlabel('Predicted label')\n",
        "    plt.show()"
      ],
      "metadata": {
        "id": "6-LUPVtUJPIF"
      },
      "execution_count": null,
      "outputs": []
    },
    {
      "cell_type": "code",
      "source": [
        "nltk.download()"
      ],
      "metadata": {
        "colab": {
          "base_uri": "https://localhost:8080/"
        },
        "id": "ybeiMeriMUA0",
        "outputId": "b2eff706-b3ee-4ce0-b2cf-a79acb5c9ca5"
      },
      "execution_count": null,
      "outputs": [
        {
          "name": "stdout",
          "output_type": "stream",
          "text": [
            "NLTK Downloader\n",
            "---------------------------------------------------------------------------\n",
            "    d) Download   l) List    u) Update   c) Config   h) Help   q) Quit\n",
            "---------------------------------------------------------------------------\n",
            "Downloader> all\n",
            "Command 'all' unrecognized\n",
            "\n",
            "---------------------------------------------------------------------------\n",
            "    d) Download   l) List    u) Update   c) Config   h) Help   q) Quit\n",
            "---------------------------------------------------------------------------\n",
            "Downloader> d\n",
            "\n",
            "Download which package (l=list; x=cancel)?\n",
            "  Identifier> all\n"
          ]
        },
        {
          "output_type": "stream",
          "name": "stderr",
          "text": [
            "    Downloading collection 'all'\n",
            "       | \n",
            "       | Downloading package abc to /root/nltk_data...\n",
            "       |   Unzipping corpora/abc.zip.\n",
            "       | Downloading package alpino to /root/nltk_data...\n",
            "       |   Unzipping corpora/alpino.zip.\n",
            "       | Downloading package averaged_perceptron_tagger to\n",
            "       |     /root/nltk_data...\n",
            "       |   Unzipping taggers/averaged_perceptron_tagger.zip.\n",
            "       | Downloading package averaged_perceptron_tagger_ru to\n",
            "       |     /root/nltk_data...\n",
            "       |   Unzipping taggers/averaged_perceptron_tagger_ru.zip.\n",
            "       | Downloading package basque_grammars to /root/nltk_data...\n",
            "       |   Unzipping grammars/basque_grammars.zip.\n",
            "       | Downloading package bcp47 to /root/nltk_data...\n",
            "       | Downloading package biocreative_ppi to /root/nltk_data...\n",
            "       |   Unzipping corpora/biocreative_ppi.zip.\n",
            "       | Downloading package bllip_wsj_no_aux to /root/nltk_data...\n",
            "       |   Unzipping models/bllip_wsj_no_aux.zip.\n",
            "       | Downloading package book_grammars to /root/nltk_data...\n",
            "       |   Unzipping grammars/book_grammars.zip.\n",
            "       | Downloading package brown to /root/nltk_data...\n",
            "       |   Unzipping corpora/brown.zip.\n",
            "       | Downloading package brown_tei to /root/nltk_data...\n",
            "       |   Unzipping corpora/brown_tei.zip.\n",
            "       | Downloading package cess_cat to /root/nltk_data...\n",
            "       |   Unzipping corpora/cess_cat.zip.\n",
            "       | Downloading package cess_esp to /root/nltk_data...\n",
            "       |   Unzipping corpora/cess_esp.zip.\n",
            "       | Downloading package chat80 to /root/nltk_data...\n",
            "       |   Unzipping corpora/chat80.zip.\n",
            "       | Downloading package city_database to /root/nltk_data...\n",
            "       |   Unzipping corpora/city_database.zip.\n",
            "       | Downloading package cmudict to /root/nltk_data...\n",
            "       |   Unzipping corpora/cmudict.zip.\n",
            "       | Downloading package comparative_sentences to\n",
            "       |     /root/nltk_data...\n",
            "       |   Unzipping corpora/comparative_sentences.zip.\n",
            "       | Downloading package comtrans to /root/nltk_data...\n",
            "       | Downloading package conll2000 to /root/nltk_data...\n",
            "       |   Unzipping corpora/conll2000.zip.\n",
            "       | Downloading package conll2002 to /root/nltk_data...\n",
            "       |   Unzipping corpora/conll2002.zip.\n",
            "       | Downloading package conll2007 to /root/nltk_data...\n",
            "       | Downloading package crubadan to /root/nltk_data...\n",
            "       |   Unzipping corpora/crubadan.zip.\n",
            "       | Downloading package dependency_treebank to /root/nltk_data...\n",
            "       |   Unzipping corpora/dependency_treebank.zip.\n",
            "       | Downloading package dolch to /root/nltk_data...\n",
            "       |   Unzipping corpora/dolch.zip.\n",
            "       | Downloading package europarl_raw to /root/nltk_data...\n",
            "       |   Unzipping corpora/europarl_raw.zip.\n",
            "       | Downloading package extended_omw to /root/nltk_data...\n",
            "       | Downloading package floresta to /root/nltk_data...\n",
            "       |   Unzipping corpora/floresta.zip.\n",
            "       | Downloading package framenet_v15 to /root/nltk_data...\n",
            "       |   Unzipping corpora/framenet_v15.zip.\n",
            "       | Downloading package framenet_v17 to /root/nltk_data...\n",
            "       |   Unzipping corpora/framenet_v17.zip.\n",
            "       | Downloading package gazetteers to /root/nltk_data...\n",
            "       |   Unzipping corpora/gazetteers.zip.\n",
            "       | Downloading package genesis to /root/nltk_data...\n",
            "       |   Unzipping corpora/genesis.zip.\n",
            "       | Downloading package gutenberg to /root/nltk_data...\n",
            "       |   Unzipping corpora/gutenberg.zip.\n",
            "       | Downloading package ieer to /root/nltk_data...\n",
            "       |   Unzipping corpora/ieer.zip.\n",
            "       | Downloading package inaugural to /root/nltk_data...\n",
            "       |   Unzipping corpora/inaugural.zip.\n",
            "       | Downloading package indian to /root/nltk_data...\n",
            "       |   Unzipping corpora/indian.zip.\n",
            "       | Downloading package jeita to /root/nltk_data...\n",
            "       | Downloading package kimmo to /root/nltk_data...\n",
            "       |   Unzipping corpora/kimmo.zip.\n",
            "       | Downloading package knbc to /root/nltk_data...\n",
            "       | Downloading package large_grammars to /root/nltk_data...\n",
            "       |   Unzipping grammars/large_grammars.zip.\n",
            "       | Downloading package lin_thesaurus to /root/nltk_data...\n",
            "       |   Unzipping corpora/lin_thesaurus.zip.\n",
            "       | Downloading package mac_morpho to /root/nltk_data...\n",
            "       |   Unzipping corpora/mac_morpho.zip.\n",
            "       | Downloading package machado to /root/nltk_data...\n",
            "       | Downloading package masc_tagged to /root/nltk_data...\n",
            "       | Downloading package maxent_ne_chunker to /root/nltk_data...\n",
            "       |   Unzipping chunkers/maxent_ne_chunker.zip.\n",
            "       | Downloading package maxent_treebank_pos_tagger to\n",
            "       |     /root/nltk_data...\n",
            "       |   Unzipping taggers/maxent_treebank_pos_tagger.zip.\n",
            "       | Downloading package moses_sample to /root/nltk_data...\n",
            "       |   Unzipping models/moses_sample.zip.\n",
            "       | Downloading package movie_reviews to /root/nltk_data...\n",
            "       |   Unzipping corpora/movie_reviews.zip.\n",
            "       | Downloading package mte_teip5 to /root/nltk_data...\n",
            "       |   Unzipping corpora/mte_teip5.zip.\n",
            "       | Downloading package mwa_ppdb to /root/nltk_data...\n",
            "       |   Unzipping misc/mwa_ppdb.zip.\n",
            "       | Downloading package names to /root/nltk_data...\n",
            "       |   Unzipping corpora/names.zip.\n",
            "       | Downloading package nombank.1.0 to /root/nltk_data...\n",
            "       | Downloading package nonbreaking_prefixes to\n",
            "       |     /root/nltk_data...\n",
            "       |   Unzipping corpora/nonbreaking_prefixes.zip.\n",
            "       | Downloading package nps_chat to /root/nltk_data...\n",
            "       |   Unzipping corpora/nps_chat.zip.\n",
            "       | Downloading package omw to /root/nltk_data...\n",
            "       | Downloading package omw-1.4 to /root/nltk_data...\n",
            "       | Downloading package opinion_lexicon to /root/nltk_data...\n",
            "       |   Unzipping corpora/opinion_lexicon.zip.\n",
            "       | Downloading package panlex_swadesh to /root/nltk_data...\n",
            "       | Downloading package paradigms to /root/nltk_data...\n",
            "       |   Unzipping corpora/paradigms.zip.\n",
            "       | Downloading package pe08 to /root/nltk_data...\n",
            "       |   Unzipping corpora/pe08.zip.\n",
            "       | Downloading package perluniprops to /root/nltk_data...\n",
            "       |   Unzipping misc/perluniprops.zip.\n",
            "       | Downloading package pil to /root/nltk_data...\n",
            "       |   Unzipping corpora/pil.zip.\n",
            "       | Downloading package pl196x to /root/nltk_data...\n",
            "       |   Unzipping corpora/pl196x.zip.\n",
            "       | Downloading package porter_test to /root/nltk_data...\n",
            "       |   Unzipping stemmers/porter_test.zip.\n",
            "       | Downloading package ppattach to /root/nltk_data...\n",
            "       |   Unzipping corpora/ppattach.zip.\n",
            "       | Downloading package problem_reports to /root/nltk_data...\n",
            "       |   Unzipping corpora/problem_reports.zip.\n",
            "       | Downloading package product_reviews_1 to /root/nltk_data...\n",
            "       |   Unzipping corpora/product_reviews_1.zip.\n",
            "       | Downloading package product_reviews_2 to /root/nltk_data...\n",
            "       |   Unzipping corpora/product_reviews_2.zip.\n",
            "       | Downloading package propbank to /root/nltk_data...\n",
            "       | Downloading package pros_cons to /root/nltk_data...\n",
            "       |   Unzipping corpora/pros_cons.zip.\n",
            "       | Downloading package ptb to /root/nltk_data...\n",
            "       |   Unzipping corpora/ptb.zip.\n",
            "       | Downloading package punkt to /root/nltk_data...\n",
            "       |   Unzipping tokenizers/punkt.zip.\n",
            "       | Downloading package qc to /root/nltk_data...\n",
            "       |   Unzipping corpora/qc.zip.\n",
            "       | Downloading package reuters to /root/nltk_data...\n",
            "       | Downloading package rslp to /root/nltk_data...\n",
            "       |   Unzipping stemmers/rslp.zip.\n",
            "       | Downloading package rte to /root/nltk_data...\n",
            "       |   Unzipping corpora/rte.zip.\n",
            "       | Downloading package sample_grammars to /root/nltk_data...\n",
            "       |   Unzipping grammars/sample_grammars.zip.\n",
            "       | Downloading package semcor to /root/nltk_data...\n",
            "       | Downloading package senseval to /root/nltk_data...\n",
            "       |   Unzipping corpora/senseval.zip.\n",
            "       | Downloading package sentence_polarity to /root/nltk_data...\n",
            "       |   Unzipping corpora/sentence_polarity.zip.\n",
            "       | Downloading package sentiwordnet to /root/nltk_data...\n",
            "       |   Unzipping corpora/sentiwordnet.zip.\n",
            "       | Downloading package shakespeare to /root/nltk_data...\n",
            "       |   Unzipping corpora/shakespeare.zip.\n",
            "       | Downloading package sinica_treebank to /root/nltk_data...\n",
            "       |   Unzipping corpora/sinica_treebank.zip.\n",
            "       | Downloading package smultron to /root/nltk_data...\n",
            "       |   Unzipping corpora/smultron.zip.\n",
            "       | Downloading package snowball_data to /root/nltk_data...\n",
            "       | Downloading package spanish_grammars to /root/nltk_data...\n",
            "       |   Unzipping grammars/spanish_grammars.zip.\n",
            "       | Downloading package state_union to /root/nltk_data...\n",
            "       |   Unzipping corpora/state_union.zip.\n",
            "       | Downloading package stopwords to /root/nltk_data...\n",
            "       |   Unzipping corpora/stopwords.zip.\n",
            "       | Downloading package subjectivity to /root/nltk_data...\n",
            "       |   Unzipping corpora/subjectivity.zip.\n",
            "       | Downloading package swadesh to /root/nltk_data...\n",
            "       |   Unzipping corpora/swadesh.zip.\n",
            "       | Downloading package switchboard to /root/nltk_data...\n",
            "       |   Unzipping corpora/switchboard.zip.\n",
            "       | Downloading package tagsets to /root/nltk_data...\n",
            "       |   Unzipping help/tagsets.zip.\n",
            "       | Downloading package timit to /root/nltk_data...\n",
            "       |   Unzipping corpora/timit.zip.\n",
            "       | Downloading package toolbox to /root/nltk_data...\n",
            "       |   Unzipping corpora/toolbox.zip.\n",
            "       | Downloading package treebank to /root/nltk_data...\n",
            "       |   Unzipping corpora/treebank.zip.\n",
            "       | Downloading package twitter_samples to /root/nltk_data...\n",
            "       |   Unzipping corpora/twitter_samples.zip.\n",
            "       | Downloading package udhr to /root/nltk_data...\n",
            "       |   Unzipping corpora/udhr.zip.\n",
            "       | Downloading package udhr2 to /root/nltk_data...\n",
            "       |   Unzipping corpora/udhr2.zip.\n",
            "       | Downloading package unicode_samples to /root/nltk_data...\n",
            "       |   Unzipping corpora/unicode_samples.zip.\n",
            "       | Downloading package universal_tagset to /root/nltk_data...\n",
            "       |   Unzipping taggers/universal_tagset.zip.\n",
            "       | Downloading package universal_treebanks_v20 to\n",
            "       |     /root/nltk_data...\n",
            "       | Downloading package vader_lexicon to /root/nltk_data...\n",
            "       | Downloading package verbnet to /root/nltk_data...\n",
            "       |   Unzipping corpora/verbnet.zip.\n",
            "       | Downloading package verbnet3 to /root/nltk_data...\n",
            "       |   Unzipping corpora/verbnet3.zip.\n",
            "       | Downloading package webtext to /root/nltk_data...\n",
            "       |   Unzipping corpora/webtext.zip.\n",
            "       | Downloading package wmt15_eval to /root/nltk_data...\n",
            "       |   Unzipping models/wmt15_eval.zip.\n",
            "       | Downloading package word2vec_sample to /root/nltk_data...\n",
            "       |   Unzipping models/word2vec_sample.zip.\n",
            "       | Downloading package wordnet to /root/nltk_data...\n",
            "       | Downloading package wordnet2021 to /root/nltk_data...\n",
            "       | Downloading package wordnet2022 to /root/nltk_data...\n",
            "       |   Unzipping corpora/wordnet2022.zip.\n",
            "       | Downloading package wordnet31 to /root/nltk_data...\n",
            "       | Downloading package wordnet_ic to /root/nltk_data...\n",
            "       |   Unzipping corpora/wordnet_ic.zip.\n",
            "       | Downloading package words to /root/nltk_data...\n",
            "       |   Unzipping corpora/words.zip.\n",
            "       | Downloading package ycoe to /root/nltk_data...\n",
            "       |   Unzipping corpora/ycoe.zip.\n",
            "       | \n",
            "     Done downloading collection all\n"
          ]
        },
        {
          "name": "stdout",
          "output_type": "stream",
          "text": [
            "\n",
            "---------------------------------------------------------------------------\n",
            "    d) Download   l) List    u) Update   c) Config   h) Help   q) Quit\n",
            "---------------------------------------------------------------------------\n",
            "Downloader> q\n"
          ]
        },
        {
          "output_type": "execute_result",
          "data": {
            "text/plain": [
              "True"
            ]
          },
          "metadata": {},
          "execution_count": 6
        }
      ]
    },
    {
      "cell_type": "code",
      "source": [
        "stops = set(stopwords.words(\"english\"))\n",
        "def cleantext(string):\n",
        "    text = string.lower().split()\n",
        "    text = \" \".join(text)\n",
        "    text = re.sub(r\"http(\\S)+\",' ',text)\n",
        "    text = re.sub(r\"www(\\S)+\",' ',text)\n",
        "    text = re.sub(r\"&\",' and ',text)\n",
        "    tx = text.replace('&amp',' ')\n",
        "    text = re.sub(r\"[^0-9a-zA-Z]+\",' ',text)\n",
        "    text = text.split()\n",
        "    text = [w for w in text if not w in stops]\n",
        "    text = \" \".join(text)\n",
        "    return text"
      ],
      "metadata": {
        "id": "9qxP4DTzJW9h"
      },
      "execution_count": null,
      "outputs": []
    },
    {
      "cell_type": "code",
      "source": [
        "train = pd.read_csv('/content/drive/MyDrive/Train_Data.csv')\n",
        "val = pd.read_csv  ('/content/drive/MyDrive/Validation_Data.csv')"
      ],
      "metadata": {
        "id": "kd2dnlX9Ja4Z"
      },
      "execution_count": null,
      "outputs": []
    },
    {
      "cell_type": "code",
      "source": [
        "train['tweet'] = train['tweet'].map(lambda x: cleantext(x))\n",
        "val['tweet'] = val['tweet'].map(lambda x: cleantext(x))"
      ],
      "metadata": {
        "id": "1KplcVPZJf9w"
      },
      "execution_count": null,
      "outputs": []
    },
    {
      "cell_type": "code",
      "source": [
        "def print_metrices(pred,true):\n",
        "    print(confusion_matrix(true,pred))\n",
        "    print(classification_report(true,pred,))\n",
        "    print(\"Accuracy : \",accuracy_score(pred,true))\n",
        "    print(\"Precison : \",precision_score(pred,true, average = 'weighted'))\n",
        "    print(\"Recall : \",recall_score(pred,true,  average = 'weighted'))\n",
        "    print(\"F1 : \",f1_score(pred,true,  average = 'weighted'))"
      ],
      "metadata": {
        "id": "5b6F01Y0JjxC"
      },
      "execution_count": null,
      "outputs": []
    },
    {
      "cell_type": "code",
      "source": [
        "pipeline = Pipeline([\n",
        "        ('bow', CountVectorizer()),\n",
        "        ('tfidf', TfidfTransformer()),\n",
        "        ('c', GradientBoostingClassifier())\n",
        "    ])\n",
        "fit = pipeline.fit(train['tweet'],train['label'])\n",
        "print('Gradient Boost')\n",
        "print ('val:')\n",
        "pred=pipeline.predict(val['tweet'])\n",
        "\n",
        "print_metrices(pred,val['label'])\n",
        "plot_confusion_matrix(confusion_matrix(val['label'],pred),target_names=['fake','real'], normalize = False, \\\n",
        "                      title = 'Confusion matix of GDBT on val data')"
      ],
      "metadata": {
        "colab": {
          "base_uri": "https://localhost:8080/",
          "height": 721
        },
        "id": "Zj_iOf3NJrVM",
        "outputId": "b978676a-74d1-494a-c12a-f3f126b5c518"
      },
      "execution_count": null,
      "outputs": [
        {
          "output_type": "stream",
          "name": "stdout",
          "text": [
            "Gradient Boost\n",
            "val:\n",
            "[[953 113]\n",
            " [222 939]]\n",
            "              precision    recall  f1-score   support\n",
            "\n",
            "        fake       0.81      0.89      0.85      1066\n",
            "        real       0.89      0.81      0.85      1161\n",
            "\n",
            "    accuracy                           0.85      2227\n",
            "   macro avg       0.85      0.85      0.85      2227\n",
            "weighted avg       0.85      0.85      0.85      2227\n",
            "\n",
            "Accuracy :  0.8495734171531207\n",
            "Precison :  0.8537440360374285\n",
            "Recall :  0.8495734171531207\n",
            "F1 :  0.8496197038141343\n"
          ]
        },
        {
          "output_type": "display_data",
          "data": {
            "text/plain": [
              "<Figure size 500x400 with 2 Axes>"
            ],
            "image/png": "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\n"
          },
          "metadata": {}
        }
      ]
    },
    
}
